{
 "cells": [
  {
   "cell_type": "markdown",
   "metadata": {},
   "source": [
    "# Projet numérique : lignes de niveau (Nathan Weill)"
   ]
  },
  {
   "cell_type": "markdown",
   "metadata": {},
   "source": [
    "Calcul des lignes de niveau d'une fonction de deux variables réelles et à valeurs réelles, i.e. les ensembles de la forme \n",
    "$$\\{(x,y)\\in \\mathbb{R^2} \\lvert f(x,y)=c \\}$$"
   ]
  },
  {
   "cell_type": "markdown",
   "metadata": {},
   "source": [
    "## Plusieurs idées : \n",
    "\n",
    "* On fixe une variable (x par exemple, en partant de x = 0) et on résout une équation pour une fonction de une variable par dichotomie ; on itère ce procédé en incrémentant x de delta à chaque itération :$$f(n\\delta,y_{n}) - c = 0$$ Cette méthode est naïve et peu précise car on ne prend pas en compte la direction et le sens de la ligne de niveau.\n",
    "\n",
    "* On pense alors au gradient. En effet, il est orthogonal aux lignes de niveau : soit $$\\gamma(t)=(x(t),y(t)), \\forall t, f(\\gamma(t))=c$$ en dérivant par rapport à t, il vient : $$\\nabla f(\\gamma(t))\\cdot\\gamma'(t)=0$$\n",
    "On construit alors une suite de points ainsi : le premier point est obtenu comme dans la première méthode en fixant x=0. Puis on fait : $$\\left( \\begin{array}{c} x_{k+1} \\\\ y_{k+1}  \\end{array} \\right)=\\left( \\begin{array}{c} x_{k} \\\\ y_{k}  \\end{array} \\right)+ \\delta*n$$ où $$n=\\nabla f^\\bot / \\lVert \\nabla f^\\bot \\rVert$$\n",
    "On prend soin de rester dans le carré qui nous intéresse, c'est-à-dire que nous suivons la ligne de niveau dans le bon sens en testant sur la première itération s'il faut ajouter ou retrancher n. C'est la méthode que nous utilisons dans ce projet en utilisant $$\\left( \\begin{array}{c} a \\\\ b  \\end{array} \\right)^\\bot = \\left( \\begin{array}{c} -b \\\\ a  \\end{array} \\right)$$\n",
    "\n",
    "* Le problème de cette méthode est la propagation d'erreurs due à l'approximation d'un fragment de ligne de niveau par une portion de droite en supposant le découpage et delta assez petits \n"
   ]
  },
  {
   "cell_type": "markdown",
   "metadata": {},
   "source": [
    "### Échecs et problèmes rencontrés\n",
    "\n",
    "Sans normer le gradient et en prenant n'importe quel sens, la propagation d'erreurs était trop importante et l'on obtenait une spirale au lieu d'un cercle"
   ]
  },
  {
   "cell_type": "markdown",
   "metadata": {},
   "source": [
    "## Code"
   ]
  },
  {
   "cell_type": "code",
   "execution_count": 4,
   "metadata": {},
   "outputs": [],
   "source": [
    "import autograd\n",
    "import autograd.numpy as np\n",
    "import matplotlib.pyplot as plt\n",
    "from math import *\n"
   ]
  },
  {
   "cell_type": "code",
   "execution_count": 5,
   "metadata": {},
   "outputs": [],
   "source": [
    "def find_seed(g, c=0, eps=2**(-26)):\n",
    "    # dichotomie de g(t) fonction de une variale\n",
    "    a,b=0,1\n",
    "    if (g(a)-c)*(g(b)-c)>0:\n",
    "        return None\n",
    "    while (b-a)/2 >= eps:\n",
    "        \n",
    "        t=a+b/2\n",
    "        if (g(a)-c)*(g(b)-c)<=0:\n",
    "            b=t\n",
    "        else:\n",
    "            a=t\n",
    "        \n",
    "    return (a+b/2)"
   ]
  },
  {
   "cell_type": "code",
   "execution_count": 6,
   "metadata": {},
   "outputs": [],
   "source": [
    "def simple_contour(f, c=0.0, delta=0.01):    #méthode 2 pésentée ci-dessus\n",
    "    def grad_f(x,y):\n",
    "        g=autograd.grad\n",
    "        return np.r_[g(f,0)(x,y), g(f,1)(x,y)]\n",
    "    \n",
    "    if find_seed(lambda t : f(0.,t), c) != None :  # Ne pas oublier de mettre c en paramètre !!\n",
    "        x,y = 0.,find_seed(lambda t : f(0.,t), c)\n",
    "    else : \n",
    "        return [[-1],[-1]]\n",
    "    \n",
    "    \n",
    "    n = [-grad_f(x,y)[1], grad_f(x,y)[0]]\n",
    "    norme = np.sqrt(n[0]**2 + n[1]**2)\n",
    "    X=[x]\n",
    "    Y=[y]\n",
    "    s = 0\n",
    "    x,y = x - delta/norme*grad_f(x,y)[1],y + delta/norme*grad_f(x,y)[0]\n",
    "    if 0<=x<=1 and 0<=y<=1:\n",
    "        s = 1\n",
    "        X.append(x)\n",
    "        Y.append(y)\n",
    "    else:\n",
    "        s = -1\n",
    "        x,y = 0.,find_seed(lambda t : f(0.,t), c)\n",
    "    while 0<=x<=1 and 0<=y<=1:   \n",
    "        x,y = x - s*delta/norme*grad_f(x,y)[1],y + s*delta/norme*grad_f(x,y)[0]\n",
    "        X.append(x)\n",
    "        Y.append(y)\n",
    "    return X,Y"
   ]
  },
  {
   "cell_type": "code",
   "execution_count": 9,
   "metadata": {},
   "outputs": [],
   "source": [
    "def h(x,y): \n",
    "    \"\"\"essai de simple_contour qui doit donner un arc de cercle\"\"\"\n",
    "    return x**2 + y**2 \n"
   ]
  },
  {
   "cell_type": "code",
   "execution_count": 10,
   "metadata": {},
   "outputs": [
    {
     "data": {
      "image/png": "[encoded data removed]",
      "text/plain": [
       "<Figure size 432x288 with 1 Axes>"
      ]
     },
     "metadata": {
      "needs_background": "light"
     },
     "output_type": "display_data"
    }
   ],
   "source": [
    "plt.plot(simple_contour(h, 1.0)[0],simple_contour(h, 1.0)[1])\n",
    "plt.axis('equal')\n",
    "plt.show()"
   ]
  },
  {
   "cell_type": "markdown",
   "metadata": {},
   "source": [
    "_On obtient un arc de cercle comme voulu_"
   ]
  },
  {
   "cell_type": "code",
   "execution_count": 11,
   "metadata": {},
   "outputs": [],
   "source": [
    "def f(x,y):\n",
    "    return np.exp(-x**2 - y**2)\n",
    "\n",
    "def g(x,y):\n",
    "    return np.exp(-(x-1)**2 - (y-1)**2)\n",
    "\n",
    "def j(x,y):\n",
    "    return 2*(f(x,y) - g(x,y))"
   ]
  },
  {
   "cell_type": "code",
   "execution_count": 12,
   "metadata": {},
   "outputs": [],
   "source": [
    "LEFT, UP, RIGHT, DOWN = 0, 1, 2, 3  # clockwise\n",
    "\n",
    "\n",
    "def rotate_direction(direction, n=1):\n",
    "    return (direction + n) % 4\n"
   ]
  },
  {
   "cell_type": "code",
   "execution_count": 13,
   "metadata": {},
   "outputs": [],
   "source": [
    "def rotate(x, y, n=1):\n",
    "    if n == 0:\n",
    "        return x, y\n",
    "    elif n >= 1:\n",
    "        return rotate(1 - y, x, n - 1)\n",
    "    else:\n",
    "        assert n < 0\n",
    "        return rotate(x, y, n=-3 * n)\n",
    "\n",
    "\n",
    "def rotate_function(f, n=1):\n",
    "    def rotated_function(x, y):\n",
    "        xr, yr = rotate(x, y, -n)\n",
    "        return f(xr, yr)\n",
    "\n",
    "    return rotated_function"
   ]
  },
  {
   "cell_type": "code",
   "execution_count": 14,
   "metadata": {},
   "outputs": [],
   "source": [
    "def contour(f, c, xs=[0.0, 1.0], ys=[0.0, 1.0], delta=0.01):\n",
    "    curves = []\n",
    "    nx, ny = len(xs), len(ys)\n",
    "    for i in range(nx - 1):\n",
    "        for j in range(ny - 1):\n",
    "            xmin, xmax = xs[i], xs[i + 1]\n",
    "            ymin, ymax = ys[j], ys[j + 1]\n",
    "\n",
    "            def f_cell(x, y):\n",
    "                return f(xmin + (xmax - xmin) * x, ymin + (ymax - ymin) * y)\n",
    "\n",
    "            done = set()\n",
    "            for n in [0, 1, 2, 3]:\n",
    "                if n not in done:\n",
    "                    rotated_f_cell = rotate_function(f_cell, n)\n",
    "                    x_curve_r, y_curve_r = simple_contour(rotated_f_cell, c, delta)\n",
    "                    exit = None\n",
    "                    if len(x_curve_r) >= 1:\n",
    "                        xf, yf = x_curve_r[-1], y_curve_r[-1]\n",
    "                        if xf == 0.0:\n",
    "                            exit = LEFT\n",
    "                        elif xf == 1.0:\n",
    "                            exit = RIGHT\n",
    "                        elif yf == 0.0:\n",
    "                            exit = DOWN\n",
    "                        elif yf == 1.0:\n",
    "                            exit = UP\n",
    "                    if exit is not None:  # a fully successful contour fragment\n",
    "                        exit = rotate_direction(exit, n)\n",
    "                        done.add(exit)\n",
    "\n",
    "                    x_curve, y_curve = [], []\n",
    "                    for x_r, y_r in zip(x_curve_r, y_curve_r):\n",
    "                        x, y = rotate(x_r, y_r, n=-n)\n",
    "                        x_curve.append(x)\n",
    "                        y_curve.append(y)\n",
    "                    x_curve = np.array(x_curve)\n",
    "                    y_curve = np.array(y_curve)\n",
    "                    curves.append(\n",
    "                        (xmin + (xmax - xmin) * x_curve, ymin + (ymax - ymin) * y_curve)\n",
    "                    )\n",
    "    return curves"
   ]
  },
  {
   "cell_type": "code",
   "execution_count": 15,
   "metadata": {},
   "outputs": [],
   "source": [
    "xs = [-2.0, -1.0, 0.0, 1.0, 2.0, 3.0]\n",
    "ys = [-1.0, 0.0, 1.0, 2.0]\n",
    "l = [-1.5, -1.0, -0.5, 0., 0.5, 1.0, 1.5]\n",
    "\n"
   ]
  },
  {
   "cell_type": "code",
   "execution_count": 16,
   "metadata": {},
   "outputs": [
    {
     "data": {
      "image/png": "[encoded data removed]",
      "text/plain": [
       "<Figure size 432x288 with 1 Axes>"
      ]
     },
     "metadata": {
      "needs_background": "light"
     },
     "output_type": "display_data"
    }
   ],
   "source": [
    "for c in l:\n",
    "    for x, y in contour(j, c, xs, ys):\n",
    "        plt.plot(x, y)\n",
    "plt.show()"
   ]
  },
  {
   "cell_type": "code",
   "execution_count": null,
   "metadata": {},
   "outputs": [],
   "source": []
  },
  {
   "cell_type": "code",
   "execution_count": null,
   "metadata": {},
   "outputs": [],
   "source": []
  },
  {
   "cell_type": "code",
   "execution_count": null,
   "metadata": {},
   "outputs": [],
   "source": []
  },
  {
   "cell_type": "code",
   "execution_count": null,
   "metadata": {},
   "outputs": [],
   "source": []
  },
  {
   "cell_type": "code",
   "execution_count": null,
   "metadata": {},
   "outputs": [],
   "source": []
  },
  {
   "cell_type": "code",
   "execution_count": null,
   "metadata": {},
   "outputs": [],
   "source": []
  },
  {
   "cell_type": "code",
   "execution_count": null,
   "metadata": {},
   "outputs": [],
   "source": []
  },
  {
   "cell_type": "code",
   "execution_count": null,
   "metadata": {},
   "outputs": [],
   "source": []
  },
  {
   "cell_type": "code",
   "execution_count": null,
   "metadata": {},
   "outputs": [],
   "source": []
  }
 ],
 "metadata": {
  "kernelspec": {
   "display_name": "Python 3",
   "language": "python",
   "name": "python3"
  },
  "language_info": {
   "codemirror_mode": {
    "name": "ipython",
    "version": 3
   },
   "file_extension": ".py",
   "mimetype": "text/x-python",
   "name": "python",
   "nbconvert_exporter": "python",
   "pygments_lexer": "ipython3",
   "version": "3.7.4"
  }
 },
 "nbformat": 4,
 "nbformat_minor": 2
}
